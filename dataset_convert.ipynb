{
 "cells": [
  {
   "cell_type": "code",
   "execution_count": 4,
   "id": "1dc7a629",
   "metadata": {
    "scrolled": false
   },
   "outputs": [],
   "source": [
    "import sys\n",
    "import rospy\n",
    "from sensor_msgs.msg import Image\n",
    "import cv2\n",
    "from cv_bridge import CvBridge\n",
    "cv_bridge = CvBridge()\n",
    "def image_cb(img_msg):\n",
    "    # Transform to cv2/numpy image\n",
    "    img_in_cv2 = cv_bridge.imgmsg_to_cv2(\n",
    "        img_msg, desired_encoding='passthrough')\n",
    "    # Transform to grayscale,\n",
    "    # available encodings: http://docs.ros.org/jade/api/sensor_msgs/html/image__encodings_8h_source.html\n",
    "    if \"rgb\" in img_msg.encoding:\n",
    "        gray_img = cv2.cvtColor(img_in_cv2, cv2.COLOR_RGB2GRAY)\n",
    "    elif \"bgr\" in img_msg.encoding:\n",
    "        gray_img = cv2.cvtColor(img_in_cv2, cv2.COLOR_BGR2GRAY)\n",
    "    # Transform back to Image message\n",
    "    gray_img_msg = cv_bridge.cv2_to_imgmsg(\n",
    "        gray_img, encoding=\"mono8\")\n",
    "    return gray_img_msg\n"
   ]
  },
  {
   "cell_type": "code",
   "execution_count": 5,
   "id": "99f0c4ac",
   "metadata": {},
   "outputs": [],
   "source": [
    "from rosbag import Bag\n",
    "import std_msgs.msg\n",
    "seq = 0\n",
    "seqC = 0\n",
    "seqI = 0\n",
    "with Bag('UAV.bag', 'w') as Y:\n",
    "    for topic, msg, t in Bag('2022-01-20-00-09-47.bag'):\n",
    "        if topic == '/camera/color/image_raw':\n",
    "            msg = image_cb(msg)\n",
    "            msg.header.stamp = t\n",
    "            msg.header.frame_id = 'camera'\n",
    "            msg.header.seq = seqC\n",
    "            seqC += 1\n",
    "            Y.write('/sensor_platform/camera_visual/img', msg, t)\n",
    "        elif topic == '/imu/data':\n",
    "            msg.header.stamp = t\n",
    "            msg.header.seq = seqI\n",
    "            seqI += 1\n",
    "            msg.header.frame_id = 'base_link'\n",
    "            Y.write('/sensor_platform/imu', msg, t)\n",
    "        elif topic == '/ti_mmwave/radar_scan_pcl_0':\n",
    "            h = std_msgs.msg.Header()\n",
    "            h.stamp = t\n",
    "            h.seq = seq\n",
    "            h.frame_id = 'radar'\n",
    "            seq += 1\n",
    "            msg.header = h\n",
    "            Y.write('/sensor_platform/radar/scan', msg, t)\n",
    "            Y.write('/sensor_platform/radar/trigger', h, t)"
   ]
  },
  {
   "cell_type": "code",
   "execution_count": 6,
   "id": "9717b48e",
   "metadata": {},
   "outputs": [
    {
     "name": "stdout",
     "output_type": "stream",
     "text": [
      "[name: \"x\"\n",
      "offset: 0\n",
      "datatype: 7\n",
      "count: 1, name: \"y\"\n",
      "offset: 4\n",
      "datatype: 7\n",
      "count: 1, name: \"z\"\n",
      "offset: 8\n",
      "datatype: 7\n",
      "count: 1, name: \"intensity\"\n",
      "offset: 16\n",
      "datatype: 7\n",
      "count: 1, name: \"velocity\"\n",
      "offset: 20\n",
      "datatype: 7\n",
      "count: 1]\n"
     ]
    }
   ],
   "source": [
    "from rosbag import Bag\n",
    "import std_msgs.msg\n",
    "for topic, msg, t in Bag('UAV.bag'):\n",
    "    if topic == '/sensor_platform/radar/scan' :\n",
    "        print(msg.fields)\n",
    "        break\n"
   ]
  }
 ],
 "metadata": {
  "kernelspec": {
   "display_name": "Python 3 (ipykernel)",
   "language": "python",
   "name": "python3"
  },
  "language_info": {
   "codemirror_mode": {
    "name": "ipython",
    "version": 3
   },
   "file_extension": ".py",
   "mimetype": "text/x-python",
   "name": "python",
   "nbconvert_exporter": "python",
   "pygments_lexer": "ipython3",
   "version": "3.9.7"
  }
 },
 "nbformat": 4,
 "nbformat_minor": 5
}
